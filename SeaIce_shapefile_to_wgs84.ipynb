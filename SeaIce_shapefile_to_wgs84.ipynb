{
 "cells": [
  {
   "cell_type": "code",
   "execution_count": null,
   "id": "912fd572",
   "metadata": {},
   "outputs": [],
   "source": [
    "#https://gis.stackexchange.com/questions/224526/converting-shapefile-from-projected-coordinates-using-pyproj-and-fiona\n",
    "import geopandas as gpd\n",
    "\n",
    "file_shp = 'F:/data/cruise_data/saildrone/2021_seaice/nic_miz2021177nc_pl_a.shp'\n",
    "file_wgs = 'F:/data/cruise_data/saildrone/2021_seaice/nic_miz2021177nc_pl_a.wgs'\n",
    "\n",
    "tmp = gpd.GeoDataFrame.from_file(file_shp)\n",
    "tmpWGS84 = tmp.to_crs({'proj':'longlat', 'ellps':'WGS84', 'datum':'WGS84'})\n",
    "tmpWGS84.to_file(file_wgs)\n",
    "tmpWGS84.plot()\n",
    "plt.xlim(-180,180)\n",
    "plt.ylim(50,90)\n",
    "fig_fname = 'F:/data/cruise_data/saildrone/2021_seaice/test_image20210629.png'\n",
    "plt.savefig(fig_fname, transparent=True, format='png')"
   ]
  },
  {
   "cell_type": "code",
   "execution_count": null,
   "id": "c71b2463",
   "metadata": {},
   "outputs": [],
   "source": [
    "import matplotlib.pyplot as plt\n",
    "import cartopy.crs as ccrs\n",
    "plt.rcParams['figure.figsize'] = (10.0, 25.0)\n",
    "ax = plt.axes(projection=ccrs.PlateCarree()) #central_longitude=180))\n",
    "tmpWGS84.plot(ax=ax)\n",
    "ax.coastlines(resolution='10m')\n",
    "x1,x2,y1,y2 = -180,-160,60,71\n",
    "ax.set_xlim(x1,x2)\n",
    "ax.set_ylim(y1,y2)\n",
    "#fig_fname = 'C:/Users/gentemann/Google Drive/f_drive/docs/projects/SSS/figures/west_coast_all_cruises.png'\n",
    "#plt.savefig(fig_fname, transparent=False, format='png')"
   ]
  },
  {
   "cell_type": "code",
   "execution_count": null,
   "id": "664d087b",
   "metadata": {},
   "outputs": [],
   "source": []
  }
 ],
 "metadata": {
  "kernelspec": {
   "display_name": "Python 3",
   "language": "python",
   "name": "python3"
  },
  "language_info": {
   "codemirror_mode": {
    "name": "ipython",
    "version": 3
   },
   "file_extension": ".py",
   "mimetype": "text/x-python",
   "name": "python",
   "nbconvert_exporter": "python",
   "pygments_lexer": "ipython3",
   "version": "3.8.10"
  }
 },
 "nbformat": 4,
 "nbformat_minor": 5
}
