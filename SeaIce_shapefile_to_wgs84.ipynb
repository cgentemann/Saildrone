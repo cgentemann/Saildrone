{
 "cells": [
  {
   "cell_type": "code",
   "execution_count": 2,
   "id": "912fd572",
   "metadata": {},
   "outputs": [],
   "source": [
    "#https://gis.stackexchange.com/questions/224526/converting-shapefile-from-projected-coordinates-using-pyproj-and-fiona\n",
    "import geopandas as gpd\n",
    "\n",
    "file_shp = 'F:/data/cruise_data/saildrone/2021_seaice/nic_miz2021177nc_pl_a.shp'\n",
    "file_wgs = 'F:/data/cruise_data/saildrone/2021_seaice/nic_miz2021177nc_pl_a.wgs'\n",
    "\n",
    "tmp = gpd.GeoDataFrame.from_file(file_shp)\n",
    "tmpWGS84 = tmp.to_crs({'proj':'longlat', 'ellps':'WGS84', 'datum':'WGS84'})\n",
    "tmpWGS84.to_file(file_wgs)"
   ]
  },
  {
   "cell_type": "code",
   "execution_count": null,
   "id": "6bdeb4ba",
   "metadata": {},
   "outputs": [],
   "source": []
  }
 ],
 "metadata": {
  "kernelspec": {
   "display_name": "Python 3",
   "language": "python",
   "name": "python3"
  },
  "language_info": {
   "codemirror_mode": {
    "name": "ipython",
    "version": 3
   },
   "file_extension": ".py",
   "mimetype": "text/x-python",
   "name": "python",
   "nbconvert_exporter": "python",
   "pygments_lexer": "ipython3",
   "version": "3.8.10"
  }
 },
 "nbformat": 4,
 "nbformat_minor": 5
}
