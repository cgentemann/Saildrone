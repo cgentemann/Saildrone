{
 "cells": [
  {
   "cell_type": "markdown",
   "metadata": {},
   "source": [
    "# Plot saildrone track data on satellite data"
   ]
  },
  {
   "cell_type": "code",
   "execution_count": null,
   "metadata": {},
   "outputs": [],
   "source": [
    "import matplotlib.ticker as mticker\n",
    "from cartopy.mpl.gridliner import LONGITUDE_FORMATTER, LATITUDE_FORMATTER\n",
    "import xarray as xr\n",
    "import numpy as np\n",
    "import pandas as pd\n",
    "import matplotlib.pyplot as plt\n",
    "import seawater as sw\n",
    "import cartopy.crs as ccrs                   # import projections\n",
    "import cartopy.feature as cf                 # import features\n",
    "import uuid\n",
    "from scipy import interpolate\n",
    "from scipy import signal\n",
    "from glob import glob\n",
    "from sklearn.linear_model import LinearRegression\n",
    "from matplotlib import ticker, cm\n",
    "import matplotlib.colors as colors\n",
    "import datetime as dt\n",
    "import scipy.ndimage\n",
    "import spectrum\n",
    "\n",
    "plt.rcParams['figure.figsize'] = (10.0, 8.0)\n",
    "\n",
    "#create xarray dataset with saildrone filenames\n",
    "#data directory for saildrone data\n",
    "data_dir = 'C:/Users/gentemann/Google Drive/public/2019_saildrone/ATOMIC/saildrone_usv_data/'\n",
    "saildrone_filenames = [x for x in glob(data_dir+'saildrone*.nc')]\n",
    "\n",
    "\n"
   ]
  },
  {
   "cell_type": "code",
   "execution_count": null,
   "metadata": {},
   "outputs": [],
   "source": [
    "ds=[]\n",
    "for iusv in range(3):\n",
    "    fname=saildrone_filenames[iusv]\n",
    "    ds_usv=xr.open_dataset(fname).isel(trajectory=0).swap_dims({'obs':'time'})\n",
    "    ds_usv.close()\n",
    "\n",
    "    #make diruanl plot\n",
    "    xlon=ds_usv.longitude.data\n",
    "    time_offset_to_lmt=(xlon/360.)*24.*60\n",
    "    tem = ds_usv.time+time_offset_to_lmt*np.timedelta64(1,'m')# dt.timedelta(seconds=1)\n",
    "    ds_usv['tlmt']=tem\n",
    "    ds_usv2= ds_usv.swap_dims({'time':'tlmt'})\n",
    "    ds_usv2a = ds_usv2.where(ds_usv2.tlmt.dt.hour==6)\n",
    "    dymn = ds_usv2a.groupby(\"tlmt.dayofyear\").mean()\n",
    "    ds_usv3 = ds_usv2.groupby(\"tlmt.dayofyear\") - dymn\n",
    "    ds_usv['TEMP_AIR_MEAN_DW'] = ds_usv3.swap_dims({'tlmt':'time'}).drop({'tlmt'}).TEMP_AIR_MEAN\n",
    "    ds_usv['TEMP_SBE37_MEAN_DW'] = ds_usv3.swap_dims({'tlmt':'time'}).drop({'tlmt'}).TEMP_SBE37_MEAN\n",
    "    ds_usv['wspd']=np.sqrt(ds_usv.UWND_MEAN**2+ds_usv.VWND_MEAN**2)   \n",
    "    tem=sw.dens0(ds_usv.SAL_SBE37_MEAN,ds_usv.TEMP_SBE37_MEAN)\n",
    "    ds_usv['density_mean']=xr.DataArray(tem,dims=('time'),coords={'time':ds_usv.time})\n",
    "    tem=sw.alpha(ds_usv.SAL_SBE37_MEAN,ds_usv.TEMP_SBE37_MEAN,ds_usv.BARO_PRES_MEAN*0) #pressure =0 at surface\n",
    "    ds_usv['alpha_ME']=xr.DataArray(tem,dims=('time'),coords={'time':ds_usv.time})\n",
    "    tem=sw.beta(ds_usv.SAL_SBE37_MEAN,ds_usv.TEMP_SBE37_MEAN,ds_usv.BARO_PRES_MEAN*0) #pressure =0 at surface\n",
    "    ds_usv['beta_MEAN']=xr.DataArray(tem,dims=('time'),coords={'time':ds_usv.time})\n",
    "    ds_usv['latitude']=ds_usv.latitude.interpolate_na(dim='time')\n",
    "    ds_usv['longitude']=ds_usv.longitude.interpolate_na(dim='time')\n",
    "    xlat=ds_usv.latitude\n",
    "    xlon=ds_usv.longitude\n",
    "    dkm2 = abs(np.abs((((xlon[1:].data-xlon[0:-1].data)**2+(xlat[1:].data-xlat[0:-1].data)**2)**.5)*110.567*np.cos(np.pi*xlat[1:].data/180)))\n",
    "    dkm2=np.append(dkm2,dkm2[66238]) #add on last point\n",
    "    dkm3 = dkm2.cumsum()\n",
    "    ds_usv['dist_total']=xr.DataArray(dkm3,dims=('time'),coords={'time':ds_usv.time})\n",
    "    ds_usv['dist_between']=xr.DataArray(dkm2,dims=('time'),coords={'time':ds_usv.time})\n",
    "    if iusv==0:\n",
    "        ds = ds_usv\n",
    "    else:\n",
    "        ds = xr.concat([ds,ds_usv],dim='trajectory')\n",
    "ds_saildrone = ds.copy(deep=True)\n",
    "\n",
    "ds_saildrone.wspd.attrs={'units':'m/s'}"
   ]
  },
  {
   "cell_type": "code",
   "execution_count": null,
   "metadata": {},
   "outputs": [],
   "source": [
    "t1,t2=dt.datetime(2020,1,17),dt.datetime(2020,3,7)\n",
    "fnames=[]\n",
    "for i in range(46):\n",
    "    t=t1+dt.timedelta(days=i)\n",
    "    tdir = t-dt.timedelta(days=4)\n",
    "    sdoy = str(tdir.timetuple().tm_yday).zfill(3)\n",
    "    smon = str(t.month).zfill(2)\n",
    "    sdy  = str(t.day).zfill(2)\n",
    "    fname = 'F:/data/sat_data/smap/SSS/L3/JPL/V4.3/8day_running/2020/' + sdoy + '/SMAP_L3_SSS_2020'+smon+sdy+'_8DAYS_V4.3.nc'\n",
    "#    fname = 'Z:/SalinityDensity/smap/L3/JPL/V4.3/8day_running/2020/' + sdoy + '/SMAP_L3_SSS_2020'+smon+sdy+'_8DAYS_V4.3.nc'\n",
    "    fnames.append(fname)\n",
    "tem = xr.open_mfdataset(fnames,combine='nested',concat_dim='time')\n",
    "tem = tem.rename({'latitude':'lat','longitude':'lon'}).sel(lon=slice(-64,-46),lat=slice(16,4))\n",
    "ds_jpl = tem.load()"
   ]
  },
  {
   "cell_type": "code",
   "execution_count": null,
   "metadata": {},
   "outputs": [],
   "source": [
    "t1,t2=dt.datetime(2020,1,17),dt.datetime(2020,3,7)\n",
    "fnames=[]\n",
    "for i in range(46):\n",
    "    t=t1+dt.timedelta(days=i)\n",
    "    tdir = t-dt.timedelta(days=4)\n",
    "    sdoy = str(tdir.timetuple().tm_yday).zfill(3)\n",
    "    sdoy2 = str(t.timetuple().tm_yday).zfill(3)\n",
    "            #\\\\White_home_pc\\f\\data\\sat_data\\smap\\SSS\\L3\\RSS\\V4\\8day_running\\SCI\\2020\n",
    "    fname = 'F:/data/sat_data/smap/SSS/L3/RSS/V4/8day_running/SCI/2020/' + sdoy + '/RSS_smap_SSS_L3_8day_running_2020_'+sdoy2+'_FNL_v04.0.nc'\n",
    "#    fname = 'Z:/SalinityDensity/smap/L3/RSS/V4/8day_running/SCI/2020/' + sdoy + '/RSS_smap_SSS_L3_8day_running_2020_'+sdoy2+'_FNL_v04.0.nc'\n",
    "    fnames.append(fname)\n",
    "tem = xr.open_mfdataset(fnames,combine='nested',concat_dim='time')\n",
    "tem.coords['lon'] = (tem.coords['lon'] + 180) % 360 - 180\n",
    "tem = tem.sortby(tem.lon)\n",
    "tem = tem.sel(lon=slice(-64,-46),lat=slice(4,16))\n",
    "ds_rss = tem.load()"
   ]
  },
  {
   "cell_type": "code",
   "execution_count": null,
   "metadata": {},
   "outputs": [],
   "source": [
    "def map_fig(ds_sat,ds,var,text1,text2,fout,date_str):\n",
    "    ds_sat = ds_sat.sel(time=date_str)\n",
    "    fig = plt.figure(figsize=(8,6))\n",
    "    ax = plt.axes(projection = ccrs.PlateCarree())  # create a set of axes with Mercator projection\n",
    "    im=ax.pcolormesh(ds_sat.lon,ds_sat.lat,ds_sat[var],vmin=34,vmax=36.5,transform=ccrs.PlateCarree(),cmap='viridis')\n",
    "    for i in range(3):\n",
    "        ds2 = ds.isel(trajectory=i)\n",
    "        ax.scatter(ds2.longitude,ds2.latitude,c=ds2.SAL_SBE37_MEAN,vmin=34,vmax=36.5,\n",
    "                      s=.15,transform=ccrs.PlateCarree(),label=ds2.trajectory.data,cmap='viridis')\n",
    "        ds2a = ds.isel(trajectory=i).sel(time=date_str)\n",
    "        ax.plot(ds2a.longitude,ds2a.latitude,'.',transform=ccrs.PlateCarree(),color='w')\n",
    "\n",
    "    ax.coastlines(resolution='10m')                \n",
    "    ax.set_extent([-64,-46,4,16])\n",
    "    bx1 = ax.gridlines(crs=ccrs.PlateCarree(), draw_labels=True,\n",
    "                      linewidth=0, color='grey', alpha=0.5, linestyle='--')\n",
    "    bx1.xlabels_top = False; bx1.ylabels_left = True\n",
    "    bx1.ylabels_right = False; bx1.xlines = False\n",
    "    bx1.xlocator = mticker.FixedLocator([-60,-55,-50,-45])\n",
    "    bx1.xformatter = LONGITUDE_FORMATTER; bx1.yformatter = LATITUDE_FORMATTER\n",
    "\n",
    "    #ax.legend()\n",
    "    ax.text(-63.5,7.5,'South America',fontsize=14)\n",
    "    ax.text(-63.5,5,text1,fontsize=14)\n",
    "    ax.text(-63.5,4.3,text2,fontsize=14)\n",
    "    cax = fig.add_axes([0.5, 0.8, 0.37, 0.02])\n",
    "    cbar = fig.colorbar(im,cax=cax, orientation='horizontal')\n",
    "    cbar.set_label('Salinity (psu)')\n",
    "    fig.savefig(figs_dir+fout)     \n",
    "\n",
    "date_start = ds.time[0]+np.timedelta64(12,'h')\n",
    "date_end = ds.time[-1].data\n",
    "length_cruise = int(np.floor((date_end-date_start)/np.timedelta64(1,'D')))\n",
    "for incr in range(length_cruise):\n",
    "    dd1 = date_start+np.timedelta64(incr,'D')\n",
    "    date_str = str(dd1.data)[0:13]\n",
    "    text2 = str(dd1.dt.month.data).zfill(2)+'-'+str(dd1.dt.day.data).zfill(2)+'-'+str(dd1.dt.year.data)+'8-day Average'\n",
    "\n",
    "    #date_str = '2020-01-30T1200'\n",
    "    #text2='7 Feb 2020 8-day Average'\n",
    "\n",
    "    text1='RSS SMAP Salinity v4'\n",
    "    fname = 'map_sss_smap'+date_str+'rss.png'\n",
    "    map_fig(ds_rss,ds,'sss_smap',text1,text2,fname,date_str)\n",
    "\n",
    "    text1='RSS SMAP Salinity v4 - 40 km'\n",
    "    fname = 'map_sss_smap'+date_str+'_rss40km.png'\n",
    "    map_fig(ds_rss,ds,'sss_smap_40km',text1,text2,fname,date_str)\n",
    "\n",
    "    text1='JPL SMAP Salinity v4.3'\n",
    "    fname = 'map_sss_smap'+date_str+'_jpl.png'\n",
    "    map_fig(ds_jpl,ds,'smap_sss',text1,text2,fname,date_str)"
   ]
  },
  {
   "cell_type": "code",
   "execution_count": null,
   "metadata": {},
   "outputs": [],
   "source": []
  },
  {
   "cell_type": "code",
   "execution_count": null,
   "metadata": {},
   "outputs": [],
   "source": []
  },
  {
   "cell_type": "code",
   "execution_count": null,
   "metadata": {},
   "outputs": [],
   "source": []
  },
  {
   "cell_type": "code",
   "execution_count": null,
   "metadata": {},
   "outputs": [],
   "source": []
  },
  {
   "cell_type": "code",
   "execution_count": null,
   "metadata": {},
   "outputs": [],
   "source": []
  },
  {
   "cell_type": "code",
   "execution_count": null,
   "metadata": {},
   "outputs": [],
   "source": []
  },
  {
   "cell_type": "code",
   "execution_count": null,
   "metadata": {},
   "outputs": [],
   "source": []
  },
  {
   "cell_type": "code",
   "execution_count": null,
   "metadata": {},
   "outputs": [],
   "source": []
  },
  {
   "cell_type": "code",
   "execution_count": null,
   "metadata": {},
   "outputs": [],
   "source": []
  },
  {
   "cell_type": "code",
   "execution_count": null,
   "metadata": {},
   "outputs": [],
   "source": []
  },
  {
   "cell_type": "code",
   "execution_count": null,
   "metadata": {},
   "outputs": [],
   "source": []
  },
  {
   "cell_type": "code",
   "execution_count": null,
   "metadata": {},
   "outputs": [],
   "source": []
  },
  {
   "cell_type": "code",
   "execution_count": null,
   "metadata": {},
   "outputs": [],
   "source": []
  },
  {
   "cell_type": "code",
   "execution_count": null,
   "metadata": {},
   "outputs": [],
   "source": []
  },
  {
   "cell_type": "code",
   "execution_count": null,
   "metadata": {},
   "outputs": [],
   "source": []
  },
  {
   "cell_type": "code",
   "execution_count": null,
   "metadata": {},
   "outputs": [],
   "source": []
  },
  {
   "cell_type": "code",
   "execution_count": null,
   "metadata": {},
   "outputs": [],
   "source": []
  }
 ],
 "metadata": {
  "kernelspec": {
   "display_name": "Python 3",
   "language": "python",
   "name": "python3"
  },
  "language_info": {
   "codemirror_mode": {
    "name": "ipython",
    "version": 3
   },
   "file_extension": ".py",
   "mimetype": "text/x-python",
   "name": "python",
   "nbconvert_exporter": "python",
   "pygments_lexer": "ipython3",
   "version": "3.7.6"
  }
 },
 "nbformat": 4,
 "nbformat_minor": 4
}
