{
 "cells": [
  {
   "cell_type": "code",
   "execution_count": null,
   "metadata": {},
   "outputs": [],
   "source": [
    "import xarray as xr\n",
    "import numpy as np\n",
    "import pandas as pd\n",
    "import matplotlib.pyplot as plt\n",
    "import seawater as sw\n",
    "import cartopy.crs as ccrs                   # import projections\n",
    "import cartopy.feature as cf                 # import features\n",
    "import uuid\n",
    "from scipy import interpolate\n",
    "from glob import glob\n",
    "\n",
    "#create xarray dataset with saildrone filenames\n",
    "#data directory for saildrone data\n",
    "data_dir = 'C:/Users/gentemann/Google Drive/public/2019_saildrone/ATOMIC/saildrone_usv_data/'\n",
    "saildrone_filenames = [x for x in glob(data_dir+'saildrone*.nc')]\n",
    "\n",
    "#data direcgtory for temperature logger .csv files\n",
    "data_dir = 'C:/Users/gentemann/Google Drive/public/2019_saildrone/ATOMIC/temp_log_proc/'\n",
    "#adir_sbe='F:/data/cruise_data/saildrone/2020_atomic/temp_log_proc/'\n",
    "\n",
    "#get list of all filenames in directory\n",
    "logger_filenames = [x for x in glob(data_dir+'*1_min*.nc')]\n",
    "#print('number of file:',len(files))\n",
    "#print(files)\n",
    "\n",
    "\n"
   ]
  },
  {
   "cell_type": "code",
   "execution_count": null,
   "metadata": {},
   "outputs": [],
   "source": [
    "iusv=1\n",
    "#open both files\n",
    "fname=saildrone_filenames[iusv]\n",
    "ds_usv=xr.open_dataset(fname)\n",
    "ds_usv.close()\n",
    "print(fname)\n",
    "fname=logger_filenames[iusv]\n",
    "print(fname)\n",
    "ds_logger=xr.open_dataset(fname)\n",
    "ds_logger.close()\n",
    "#swap dims to time since obs makes no sense\n",
    "ds_usv = ds_usv.isel(trajectory=0).swap_dims({'obs':'time'})\n",
    "ds_logger = ds_logger.isel(trajectory=0).swap_dims({'obs':'time'})\n",
    "ds_usv['wspd']=np.sqrt(ds_usv.UWND_MEAN**2+ds_usv.VWND_MEAN**2)\n",
    "\n",
    "#calculate local time\n",
    "xlon=ds_usv.longitude\n",
    "time_offset_to_lmt=(xlon.data/360.)*24.*60\n",
    "ds_usv['tlmt'] = ds_usv.time.data+time_offset_to_lmt*np.timedelta64(1,'m')# dt.timedelta(seconds=1)\n"
   ]
  },
  {
   "cell_type": "code",
   "execution_count": null,
   "metadata": {},
   "outputs": [],
   "source": [
    "ds_usv.TEMP_SBE37_MEAN.plot()\n",
    "ds_usv.TEMP_CTD_RBR_MEAN.plot()\n",
    "ds_logger.sea_water_temperature_00_mean.plot()\n",
    "ds_logger.sea_water_temperature_01_mean.plot()\n",
    "ds_logger.sea_water_temperature_02_mean.plot()\n",
    "ds_logger.sea_water_temperature_03_mean.plot()"
   ]
  },
  {
   "cell_type": "code",
   "execution_count": null,
   "metadata": {},
   "outputs": [],
   "source": [
    "dif = ds_logger.sea_water_temperature_00_mean-ds_logger.sea_water_temperature_03_mean\n",
    "#dif = ds_usv.TEMP_SBE37_MEAN-ds_usv.TEMP_CTD_RBR_MEAN\n",
    "dif.plot()"
   ]
  },
  {
   "cell_type": "code",
   "execution_count": null,
   "metadata": {},
   "outputs": [],
   "source": [
    "plt.hist(ds_usv.wspd,bins=np.arange(0,15,.1))"
   ]
  },
  {
   "cell_type": "code",
   "execution_count": null,
   "metadata": {},
   "outputs": [],
   "source": [
    "plt.scatter(ds_usv.wspd,dif,c=ds_usv.tlmt.dt.hour)"
   ]
  },
  {
   "cell_type": "markdown",
   "metadata": {},
   "source": [
    "# calculate mean difference between salinity sensors"
   ]
  },
  {
   "cell_type": "code",
   "execution_count": null,
   "metadata": {
    "scrolled": true
   },
   "outputs": [],
   "source": [
    "dd=[]\n",
    "print('SBE37 minus RBR')\n",
    "for iusv in range(3):\n",
    "    fname=saildrone_filenames[iusv]\n",
    "    ds_usv=xr.open_dataset(fname)\n",
    "    ds_usv.close()\n",
    "    dif = ds_usv.SAL_SBE37_MEAN-ds_usv.SAL_RBR_MEAN\n",
    "    difm = dif.mean().data\n",
    "    difs = dif.std().data\n",
    "    print(ds_usv.trajectory.data,\"{:.3f}\".format(difm),\"{:.3f}\".format(difs),np.isfinite(dif).sum().data)\n",
    "    "
   ]
  },
  {
   "cell_type": "code",
   "execution_count": null,
   "metadata": {},
   "outputs": [],
   "source": [
    "dd=[]\n",
    "print('SBE37 minus RBR')\n",
    "for iusv in range(3):\n",
    "    fname=saildrone_filenames[iusv]\n",
    "    ds_usv=xr.open_dataset(fname)\n",
    "    ds_usv.close()\n",
    "    dif = ds_usv.TEMP_SBE37_MEAN-ds_usv.TEMP_CTD_RBR_MEAN\n",
    "    dif2 = ds_usv.TEMP_SBE37_MEAN-ds_usv.TEMP_O2_RBR_MEAN\n",
    "    dif3 = ds_usv.TEMP_CTD_RBR_MEAN-ds_usv.TEMP_O2_RBR_MEAN\n",
    "    difm = dif.mean().data\n",
    "    difs = dif.std().data\n",
    "    difm2 = dif.mean().data\n",
    "    difs2 = dif.std().data\n",
    "    print(ds_usv.trajectory.data,\"{:.3f}\".format(difm),\"{:.3f}\".format(difs),\"{:.3f}\".format(difm2),\"{:.3f}\".format(difs2),np.isfinite(dif).sum().data)\n"
   ]
  },
  {
   "cell_type": "code",
   "execution_count": null,
   "metadata": {},
   "outputs": [],
   "source": [
    "iusv=1\n",
    "fname=saildrone_filenames[iusv]\n",
    "ds_usv=xr.open_dataset(fname)\n",
    "ds_usv.close()\n",
    "dif = ds_usv.TEMP_SBE37_MEAN-ds_usv.TEMP_CTD_RBR_MEAN\n",
    "dif2 = ds_usv.TEMP_SBE37_MEAN-ds_usv.TEMP_O2_RBR_MEAN\n",
    "dif3 = ds_usv.TEMP_CTD_RBR_MEAN-ds_usv.TEMP_O2_RBR_MEAN"
   ]
  },
  {
   "cell_type": "code",
   "execution_count": null,
   "metadata": {},
   "outputs": [],
   "source": [
    "dif.plot()\n",
    "dif2.plot()\n",
    "dif3.plot()"
   ]
  },
  {
   "cell_type": "code",
   "execution_count": null,
   "metadata": {},
   "outputs": [],
   "source": [
    "print((ds_usv.SAL_SBE37_MEAN-ds_usv.SAL_RBR_MEAN).mean().data,(ds_usv.SAL_SBE37_MEAN-ds_usv.SAL_RBR_MEAN).std().data)"
   ]
  },
  {
   "cell_type": "code",
   "execution_count": null,
   "metadata": {},
   "outputs": [],
   "source": [
    "print((ds_usv.SAL_SBE37_MEAN).mean().data,(ds_usv.SAL_SBE37_MEAN).std().data)"
   ]
  },
  {
   "cell_type": "code",
   "execution_count": null,
   "metadata": {},
   "outputs": [],
   "source": []
  }
 ],
 "metadata": {
  "kernelspec": {
   "display_name": "Python 3",
   "language": "python",
   "name": "python3"
  },
  "language_info": {
   "codemirror_mode": {
    "name": "ipython",
    "version": 3
   },
   "file_extension": ".py",
   "mimetype": "text/x-python",
   "name": "python",
   "nbconvert_exporter": "python",
   "pygments_lexer": "ipython3",
   "version": "3.7.6"
  }
 },
 "nbformat": 4,
 "nbformat_minor": 4
}
