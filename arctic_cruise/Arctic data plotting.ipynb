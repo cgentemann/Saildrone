{
 "cells": [
  {
   "cell_type": "code",
   "execution_count": null,
   "metadata": {},
   "outputs": [],
   "source": [
    "import xarray as xr\n",
    "import numpy as np\n",
    "import pandas as pd\n",
    "import matplotlib.pyplot as plt\n",
    "import seawater as sw\n",
    "import cartopy.crs as ccrs                   # import projections\n",
    "import cartopy.feature as cf                 # import features\n",
    "\n",
    "fig_dir='C:/Users/gentemann/Google Drive/f_drive/docs/projects/misst-arctic/Saildrone/'\n",
    "\n",
    "icefile='C:/Users/gentemann/Google Drive/f_drive/docs/projects/misst-arctic/Ice Present.xlsx'\n",
    "\n",
    "data_dir = 'F:/data/cruise_data/saildrone/2019_arctic/post_mission_combined/'\n",
    "\n"
   ]
  },
  {
   "cell_type": "markdown",
   "metadata": {},
   "source": [
    "## read in ice present file\n",
    "\n",
    "This file is a combination of the NOAA ice file & own analysis of data based on STD of salinity and SST"
   ]
  },
  {
   "cell_type": "code",
   "execution_count": null,
   "metadata": {},
   "outputs": [],
   "source": [
    "ds = pd.read_excel(icefile, sheet_name='data',index_col=0)\n",
    "ds_ice = ds.to_xarray()"
   ]
  },
  {
   "cell_type": "markdown",
   "metadata": {},
   "source": [
    "## check data\n",
    "\n",
    "Just print out the data and look at the dates to make sure start and stop look right"
   ]
  },
  {
   "cell_type": "code",
   "execution_count": null,
   "metadata": {},
   "outputs": [],
   "source": [
    "ds_ice.sel(usv=1036).start_time"
   ]
  },
  {
   "cell_type": "markdown",
   "metadata": {},
   "source": [
    "## Read in all the cruise full data\n",
    "\n",
    "- swap dims from obs to time\n",
    "- I checked & time = for both trajectories"
   ]
  },
  {
   "cell_type": "code",
   "execution_count": null,
   "metadata": {},
   "outputs": [],
   "source": [
    "ds = xr.open_mfdataset(data_dir+'*.nc',combine='nested',concat_dim='trajectory').load()\n",
    "\n",
    "#ds = ds.rename({'latitude':'lat','longitude':'lon'})\n",
    "#ds['time']=ds.time[0,:]\n",
    "#ds = ds.swap_dims({'obs':'time'})\n",
    "#calculate some variables\n",
    "#ds['wspd_MEAN']=np.sqrt(ds.UWND_MEAN**2+ds.VWND_MEAN**2)\n",
    "#ds['wdir_MEAN']=np.arctan2(ds.VWND_MEAN,ds.UWND_MEAN)*180./np.pi\n",
    "#tem=sw.dens0(ds.SAL_SBE37_MEAN,ds.TEMP_SBE37_MEAN)\n",
    "#ds['density_MEAN']=xr.DataArray(tem,dims=('trajectory','time'),coords={'trajectory':ds.trajectory,'time':ds.time})\n",
    "#tem=sw.alpha(ds.SAL_SBE37_MEAN,ds.TEMP_SBE37_MEAN,ds.BARO_PRES_MEAN*0) #pressure =0 at surface\n",
    "#ds['alpha_MEAN']=xr.DataArray(tem,dims=('trajectory','time'),coords={'trajectory':ds.trajectory,'time':ds.time})\n",
    "#tem=sw.beta(ds.SAL_SBE37_MEAN,ds.TEMP_SBE37_MEAN,ds.BARO_PRES_MEAN*0) #pressure =0 at surface\n",
    "#ds['beta_MEAN']=xr.DataArray(tem,dims=('trajectory','time'),coords={'trajectory':ds.trajectory,'time':ds.time})\n",
    "\n",
    "#get rid of bad salinity values\n",
    "ds_masked=ds.where(ds.SAL_SBE37_MEAN>20)\n",
    "ds['SAL_SBE37_MEAN']=ds_masked['SAL_SBE37_MEAN']\n",
    "\n"
   ]
  },
  {
   "cell_type": "code",
   "execution_count": null,
   "metadata": {},
   "outputs": [],
   "source": [
    "ds"
   ]
  },
  {
   "cell_type": "markdown",
   "metadata": {},
   "source": [
    "# Create ice mask based on photo/data"
   ]
  },
  {
   "cell_type": "code",
   "execution_count": null,
   "metadata": {},
   "outputs": [],
   "source": [
    "ice_mask=np.zeros(ds.TEMP_AIR_MEAN.shape)\n",
    "#ice_mask = xr.DataArray(ice_mask,coords=[ds.trajectory,ds.time],dims=['trajectory','time'],\n",
    "#                                           attrs={'long_name':'ice mask 1=ice'})\n",
    "ice_mask = xr.DataArray(ice_mask,coords=[ds.trajectory,ds.time],dims=['trajectory','time'],\n",
    "                                           attrs={'long_name':'ice mask 1=ice'})\n",
    "ds['ice_mask']=ice_mask\n",
    "for iusv in range(2):\n",
    "    ice =  ds_ice.sel(usv=int(ds.trajectory[iusv].data))\n",
    "    ds_tem = ds.isel(trajectory=iusv)\n",
    "    for i in range(ice.usv.size):\n",
    "        print(iusv,ice.start_time[i].data)\n",
    "        cond = (ds_tem.time>=ice.start_time[i]) & (ds_tem.time<=ice.stop_time[i])\n",
    "        ds_tem.ice_mask[cond]=1\n",
    "    ds['ice_mask'][iusv,:]=ds_tem.ice_mask"
   ]
  },
  {
   "cell_type": "markdown",
   "metadata": {},
   "source": [
    "## Plot all the Variables "
   ]
  },
  {
   "cell_type": "code",
   "execution_count": null,
   "metadata": {},
   "outputs": [],
   "source": [
    "for var in ds.variables:\n",
    "    if 'MEAN' in var:\n",
    "        print(var)\n",
    "        ax=ds[var][0,:].plot(linewidth=.5,color='r',label='1036')\n",
    "        ax=ds[var][1,:].plot(linewidth=.5,color='b',label='1037')\n",
    "        plt.legend()\n",
    "        plt.title('')\n",
    "        plt.savefig(fig_dir+'figs/'+var+'.png')\n",
    "        plt.clf()"
   ]
  },
  {
   "cell_type": "markdown",
   "metadata": {},
   "source": [
    "## Plot SSTs on map to show where vehicles whent"
   ]
  },
  {
   "cell_type": "code",
   "execution_count": null,
   "metadata": {},
   "outputs": [],
   "source": [
    "for i in range(2):\n",
    "    fig = plt.figure(figsize=(8,12))\n",
    "    ax = plt.axes(projection = ccrs.NorthPolarStereo(central_longitude=180.0))  # create a set of axes with Mercator projection\n",
    "    ds2 = ds.isel(trajectory=i)\n",
    "    im=ax.scatter(ds2.lon,ds2.lat,c=ds2.TEMP_SBE37_MEAN,s=.15,transform=ccrs.PlateCarree(),label=ds.trajectory[i].data,cmap='jet')\n",
    "    ax.coastlines(resolution='10m')                \n",
    "    ax.set_extent([-180,-160,50,77])\n",
    "    ax.legend()\n",
    "    cax = fig.add_axes([0.45, 0.17, 0.3, 0.02])\n",
    "    cbar = fig.colorbar(im,cax=cax, orientation='horizontal')\n",
    "    cbar.set_label('SST ($^\\deg$C)')\n",
    "    fig.savefig(fig_dir+'figs/map_nasa'+str(i).zfill(2)+'_data.png')    \n",
    "fig = plt.figure(figsize=(8,12))\n",
    "ax = plt.axes(projection = ccrs.NorthPolarStereo(central_longitude=180.0))  # create a set of axes with Mercator projection\n",
    "for i in range(2):\n",
    "    ds2 = ds.isel(trajectory=i)\n",
    "    im=ax.scatter(ds2.lon,ds2.lat,c=ds2.TEMP_SBE37_MEAN,s=.15,transform=ccrs.PlateCarree(),label=ds.trajectory[i].data,cmap='jet')\n",
    "    ax.coastlines(resolution='10m')                \n",
    "    ax.set_extent([-180,-160,50,77])\n",
    "    ax.legend()\n",
    "    cax = fig.add_axes([0.45, 0.17, 0.3, 0.02])\n",
    "    cbar = fig.colorbar(im,cax=cax, orientation='horizontal')\n",
    "    cbar.set_label('SST ($^\\deg$C)')\n",
    "    fig.savefig(fig_dir+'figs/map_nasa_data.png')"
   ]
  },
  {
   "cell_type": "markdown",
   "metadata": {},
   "source": [
    "## make plot air sea tem difference"
   ]
  },
  {
   "cell_type": "code",
   "execution_count": null,
   "metadata": {},
   "outputs": [],
   "source": [
    "for i in range(2):\n",
    "    fig = plt.figure(figsize=(8,12))\n",
    "    ax = plt.axes(projection = ccrs.NorthPolarStereo(central_longitude=180.0))  # create a set of axes with Mercator projection\n",
    "    ds2 = ds.isel(trajectory=i)\n",
    "    rdif=ds2.TEMP_AIR_MEAN-ds2.TEMP_SBE37_MEAN\n",
    "    im=ax.scatter(ds2.lon,ds2.lat,c=rdif,s=.15,vmin=-3,vmax=3,transform=ccrs.PlateCarree(),label=ds.trajectory[i].data,cmap='seismic')\n",
    "    ax.coastlines(resolution='10m')                \n",
    "    ax.set_extent([-180,-160,50,77])\n",
    "    ax.legend()\n",
    "    cax = fig.add_axes([0.45, 0.17, 0.3, 0.02])\n",
    "    cbar = fig.colorbar(im,cax=cax, orientation='horizontal')\n",
    "    cbar.set_label('$\\Delta$ T (air=sea) ($^\\deg$C)')\n",
    "    fig.savefig(fig_dir+'figs/map_nasa'+str(i).zfill(2)+'_data_airseadif.png')    \n",
    "fig = plt.figure(figsize=(8,12))\n",
    "ax = plt.axes(projection = ccrs.NorthPolarStereo(central_longitude=180.0))  # create a set of axes with Mercator projection\n",
    "for i in range(2):\n",
    "    ds2 = ds.isel(trajectory=i)\n",
    "    rdif=ds2.TEMP_AIR_MEAN-ds2.TEMP_SBE37_MEAN\n",
    "    im=ax.scatter(ds2.lon,ds2.lat,c=rdif,s=.15,vmin=-3,vmax=3,transform=ccrs.PlateCarree(),label=ds.trajectory[i].data,cmap='seismic')\n",
    "    ax.coastlines(resolution='10m')                \n",
    "    ax.set_extent([-180,-160,50,77])\n",
    "    ax.legend()\n",
    "    cax = fig.add_axes([0.45, 0.17, 0.3, 0.02])\n",
    "    cbar = fig.colorbar(im,cax=cax, orientation='horizontal')\n",
    "    cbar.set_label('$\\Delta$ T (air=sea) ($^\\deg$C)')\n",
    "    fig.savefig(fig_dir+'figs/map_nasa_data_airseadif.png')"
   ]
  },
  {
   "cell_type": "code",
   "execution_count": null,
   "metadata": {},
   "outputs": [],
   "source": [
    "fig = plt.figure(figsize=(5,5))\n",
    "rdif=ds.TEMP_AIR_MEAN-ds.TEMP_SBE37_MEAN\n",
    "sdif=rdif.stack(z=('trajectory','time'))\n",
    "plt.hist(sdif,bins=np.arange(-6,6,.1))#,rwidth=0.25)\n",
    "plt.xlabel('$\\Delta$ T (air-sea)')\n",
    "plt.ylabel('Num. obs')\n",
    "plt.xticks(rotation=45)\n",
    "fig.savefig(fig_dir+'figs/nasa_air_hist.png', dpi=300)\n"
   ]
  },
  {
   "cell_type": "markdown",
   "metadata": {},
   "source": [
    "## Look at any wind speed or time of day dependence on differences between two inflow 0.6m bulk SSTs"
   ]
  },
  {
   "cell_type": "code",
   "execution_count": null,
   "metadata": {},
   "outputs": [],
   "source": [
    "#make diruanl plot\n",
    "ds2=ds#.isel(trajectory=0)\n",
    "xlon=ds2.lon\n",
    "tdif=ds2.TEMP_CTD_RBR_MEAN-ds2.TEMP_SBE37_MEAN\n",
    "time_offset_to_lmt=(xlon/360.)*24.*60\n",
    "ds2['tlmt']=ds2.lon\n",
    "for i in range(2):\n",
    "    ds2['tlmt'][i,:]= ds2.time.data+time_offset_to_lmt[i,:]*np.timedelta64(1,'m')# dt.timedelta(seconds=1)"
   ]
  },
  {
   "cell_type": "code",
   "execution_count": null,
   "metadata": {},
   "outputs": [],
   "source": [
    "tdif=ds2.TEMP_CTD_RBR_MEAN-ds2.TEMP_SBE37_MEAN\n",
    "fig,(ax1,ax2) =plt.subplots(1,2,figsize=(12,8))\n",
    "for i in range(2):\n",
    "    cs=ax1.scatter(ds2.wspd_MEAN[i,:],tdif[i,:],c=ds2.time.dt.hour,s=.5)\n",
    "ax1.set(xlabel='Wind Speed (ms$^{-1}$)', ylabel='RBR - SBE4 SST (K)')\n",
    "ax1.set_xlim(0,15)\n",
    "cbar = fig.colorbar(cs,orientation='horizontal',ax=ax1)\n",
    "cbar.set_label('GMT Time (hrs)')\n",
    "for i in range(2):\n",
    "    cs2=ax2.scatter(ds2.time.dt.hour,tdif[i,:],c=ds2.wspd_MEAN[i,:],s=.5)\n",
    "ax2.set(xlabel='GMT (hr)')\n",
    "cbar = fig.colorbar(cs2,orientation='horizontal',ax=ax2)\n",
    "cbar.set_label('Wind Speed (ms$^{-1}$)')\n",
    "fig.savefig(fig_dir+'figs/temp_buld_dw_data.png')"
   ]
  },
  {
   "cell_type": "code",
   "execution_count": null,
   "metadata": {},
   "outputs": [],
   "source": [
    "ds2=ds\n",
    "fig,(ax1,ax2) =plt.subplots(1,2,figsize=(12,8))\n",
    "tdif=ds2.TEMP_CTD_RBR_MEAN-ds2.sea_water_temperature_01_mean\n",
    "for i in range(2):\n",
    "    cs=ax1.scatter(ds2.wspd_MEAN[i,:],tdif[i,:],c=ds2.time.dt.hour,s=.5)\n",
    "ax1.set(xlabel='Wind Speed (ms$^{-1}$)', ylabel='RBR - SBE56 SST (K)')\n",
    "ax1.set_xlim(0,15)\n",
    "cbar = fig.colorbar(cs,orientation='horizontal',ax=ax1)\n",
    "cbar.set_label('GMT Time (hrs)')\n",
    "tdif=ds2.TEMP_SBE37_MEAN-ds2.sea_water_temperature_01_mean\n",
    "for i in range(2):\n",
    "    cs=ax2.scatter(ds2.wspd_MEAN[i,:],tdif[i,:],c=ds2.time.dt.hour,s=.5)\n",
    "ax2.set(xlabel='Wind Speed (ms$^{-1}$)', ylabel='RBR - SBE56 SST (K)')\n",
    "ax2.set_xlim(0,15)\n",
    "cbar = fig.colorbar(cs,orientation='horizontal',ax=ax2)\n",
    "cbar.set_label('GMT Time (hrs)')\n",
    "fig.savefig(fig_dir+'figs/temp_comparesbe56_ctds_data.png')"
   ]
  },
  {
   "cell_type": "code",
   "execution_count": null,
   "metadata": {},
   "outputs": [],
   "source": [
    "tdif=ds2.TEMP_CTD_RBR_MEAN-ds2.TEMP_SBE37_MEAN\n",
    "cond=(ds.ice_mask==0)\n",
    "tdif2=tdif.where(cond)\n",
    "tdif[0,:].plot()\n",
    "tdif2[0,:].plot()"
   ]
  },
  {
   "cell_type": "code",
   "execution_count": null,
   "metadata": {},
   "outputs": [],
   "source": []
  },
  {
   "cell_type": "code",
   "execution_count": null,
   "metadata": {},
   "outputs": [],
   "source": [
    "for i in range(2):\n",
    "    fig = plt.figure(figsize=(8,12))\n",
    "    ax = plt.axes(projection = ccrs.NorthPolarStereo(central_longitude=180.0))  # create a set of axes with Mercator projection\n",
    "    ds2 = ds.isel(trajectory=i)\n",
    "    rdif=ds2.TEMP_CTD_RBR_MEAN-ds2.TEMP_SBE37_MEAN\n",
    "    im=ax.scatter(ds2.lon,ds2.lat,c=rdif,s=.15,vmin=-.5,vmax=.5,transform=ccrs.PlateCarree(),label=ds.trajectory[i].data,cmap='seismic')\n",
    "    ax.coastlines(resolution='10m')                \n",
    "    ax.set_extent([-180,-160,50,77])\n",
    "    ax.legend()\n",
    "    cax = fig.add_axes([0.45, 0.17, 0.3, 0.02])\n",
    "    cbar = fig.colorbar(im,cax=cax, orientation='horizontal')\n",
    "    cbar.set_label('$\\Delta$ T (air=sea) ($^\\deg$C)')\n",
    "    fig.savefig(fig_dir+'figs/map_nasa'+str(i).zfill(2)+'_data_RBR_SBE_dif.png')    "
   ]
  },
  {
   "cell_type": "code",
   "execution_count": null,
   "metadata": {},
   "outputs": [],
   "source": [
    "i=0\n",
    "fig = plt.figure(figsize=(8,12))\n",
    "ds2 = ds.isel(trajectory=i)\n",
    "rdif=ds2.TEMP_CTD_RBR_MEAN-ds2.TEMP_SBE37_MEAN\n",
    "rdif.plot()"
   ]
  },
  {
   "cell_type": "markdown",
   "metadata": {},
   "source": [
    "## Make differences"
   ]
  },
  {
   "cell_type": "code",
   "execution_count": null,
   "metadata": {},
   "outputs": [],
   "source": [
    "ds['tdif_temp']=ds.TEMP_CTD_RBR_MEAN-ds.TEMP_SBE37_MEAN\n",
    "ds.tdif_temp.attrs=ds.TEMP_CTD_RBR_MEAN.attrs\n",
    "ds.tdif_temp.attrs['long_name']='$\\Delta$'+'(RBR - SBE) '+ds.tdif_temp.attrs['long_name']\n",
    "\n",
    "ds['tdif_sal']=ds.SAL_RBR_MEAN-ds.SAL_SBE37_MEAN\n",
    "ds.tdif_sal.attrs=ds.SAL_RBR_MEAN.attrs\n",
    "ds.tdif_sal.attrs['long_name']='$\\Delta$'+'(RBR - SBE) '+ds.tdif_sal.attrs['long_name']\n",
    "\n",
    "ds['tdif_O2']=ds.O2_CONC_RBR_MEAN-ds.O2_CONC_SBE37_MEAN\n",
    "ds.tdif_O2.attrs=ds.O2_CONC_RBR_MEAN.attrs\n",
    "ds.tdif_O2.attrs['long_name']='$\\Delta$'+'(RBR - SBE) '+ds.tdif_O2.attrs['long_name']\n",
    "\n",
    "ds['tdif_Chlor']=ds.CHLOR_RBR_MEAN-ds.CHLOR_WETLABS_MEAN\n",
    "ds.tdif_Chlor.attrs=ds.CHLOR_RBR_MEAN.attrs\n",
    "ds.tdif_Chlor.attrs['long_name']='$\\Delta$'+'(RBR - Wetlabs) '+ds.tdif_Chlor.attrs['long_name']\n"
   ]
  },
  {
   "cell_type": "code",
   "execution_count": null,
   "metadata": {},
   "outputs": [],
   "source": [
    "print('CTD TEMP')\n",
    "tdif=ds.tdif_temp\n",
    "print(tdif.mean('time').data,tdif.std('time').data,sum(np.isfinite(tdif[0,:])).data,sum(np.isfinite(tdif[1,:])).data)\n",
    "print('SAL')\n",
    "tdif=ds.tdif_sal\n",
    "print(tdif.mean('time').data,tdif.std('time').data,sum(np.isfinite(tdif[0,:])).data,sum(np.isfinite(tdif[1,:])).data)\n",
    "print('O2 CONC')\n",
    "tdif=ds.tdif_O2\n",
    "print(tdif.mean('time').data,tdif.std('time').data,sum(np.isfinite(tdif[0,:])).data,sum(np.isfinite(tdif[1,:])).data)\n",
    "print('Chlor')\n",
    "tdif=ds.tdif_Chlor\n",
    "print(tdif.mean('time').data,tdif.std('time').data,sum(np.isfinite(tdif[0,:])).data,sum(np.isfinite(tdif[1,:])).data)\n"
   ]
  },
  {
   "cell_type": "markdown",
   "metadata": {},
   "source": [
    "## Plot differences"
   ]
  },
  {
   "cell_type": "code",
   "execution_count": null,
   "metadata": {},
   "outputs": [],
   "source": [
    "for var in ds.variables:\n",
    "    if 'tdif' in var:\n",
    "        print(var)\n",
    "        ax=ds[var][0,:].plot(linewidth=.5,color='r',label='1036')\n",
    "        ax=ds[var][1,:].plot(linewidth=.5,color='b',label='1037')\n",
    "        plt.legend()\n",
    "        plt.title('')\n",
    "        plt.savefig(fig_dir+'figs/'+var+'.png')\n",
    "        plt.clf()"
   ]
  },
  {
   "cell_type": "code",
   "execution_count": null,
   "metadata": {},
   "outputs": [],
   "source": []
  },
  {
   "cell_type": "code",
   "execution_count": null,
   "metadata": {},
   "outputs": [],
   "source": []
  },
  {
   "cell_type": "code",
   "execution_count": null,
   "metadata": {},
   "outputs": [],
   "source": []
  },
  {
   "cell_type": "code",
   "execution_count": null,
   "metadata": {},
   "outputs": [],
   "source": []
  }
 ],
 "metadata": {
  "kernelspec": {
   "display_name": "Python 3",
   "language": "python",
   "name": "python3"
  },
  "language_info": {
   "codemirror_mode": {
    "name": "ipython",
    "version": 3
   },
   "file_extension": ".py",
   "mimetype": "text/x-python",
   "name": "python",
   "nbconvert_exporter": "python",
   "pygments_lexer": "ipython3",
   "version": "3.7.6"
  }
 },
 "nbformat": 4,
 "nbformat_minor": 2
}
