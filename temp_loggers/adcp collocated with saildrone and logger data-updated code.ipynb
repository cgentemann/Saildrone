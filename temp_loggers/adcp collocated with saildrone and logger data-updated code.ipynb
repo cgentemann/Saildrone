{
 "cells": [
  {
   "cell_type": "code",
   "execution_count": 18,
   "metadata": {},
   "outputs": [],
   "source": [
    "import xarray as xr\n",
    "import datetime as dt\n",
    "import pandas as pd\n",
    "import numpy as np\n",
    "adir_adcp = 'F:/data/cruise_data/saildrone/baja-2018/adcp_data/'\n",
    "adir = 'F:/data/cruise_data/saildrone/baja-2018/'\n",
    "filename_10min=adir + 'saildrone-gen_4-baja_2018-sd1002-20180411T180000-20180611T055959-10_minutes-v1_withloggers_matchedadcp_v3.nc'\n",
    "#ds_usv3.to_netcdf(filename_10min)"
   ]
  },
  {
   "cell_type": "code",
   "execution_count": 19,
   "metadata": {},
   "outputs": [],
   "source": [
    "filename_loggers_usv=adir + 'saildrone-gen_4-baja_2018-sd1002-20180411T180000-20180611T055959-10_minutes-v1_withloggers_matchedadcp_v3.nc'\n",
    "filename_adcp = adir_adcp + 'saildrone-gen_4-baja_2018-sd1002-adcp-20180411T175730-20180611T235730_300s-v1.nc'\n",
    "ds_usv = xr.open_dataset(filename_loggers_usv)  #1 minute averaging\n",
    "ds_usv.close()\n",
    "ds_usv = ds_usv.swap_dims({'obs':'time'})\n",
    "ds_adcp = xr.open_dataset(filename_adcp)            #10 minute sampling\n",
    "ds_adcp.close()\n",
    "ds_adcp = ds_adcp.isel(trajectory=0)\n",
    "ds_adcp=ds_adcp.rename({'latitude':'lat','longitude':'lon'})\n",
    "ds_adcp=ds_adcp.swap_dims({'obs':'time'})\n"
   ]
  },
  {
   "cell_type": "code",
   "execution_count": 20,
   "metadata": {},
   "outputs": [],
   "source": [
    "ds_adcp2 = ds_adcp.assign_coords(trajectory=ds_usv.trajectory.copy(deep=True))\n",
    "ds_combined = xr.merge([ds_usv,ds_adcp2])\n"
   ]
  },
  {
   "cell_type": "code",
   "execution_count": 21,
   "metadata": {},
   "outputs": [],
   "source": [
    "del ds_combined['percent_good'].attrs['coordinates']\n",
    "del ds_combined['percent_good_4_beam'].attrs['coordinates']\n",
    "del ds_combined['percent_good_3_beam'].attrs['coordinates']\n",
    "del ds_combined['vel_east'].attrs['coordinates']\n",
    "del ds_combined['vel_north'].attrs['coordinates']\n",
    "del ds_combined['vel_up'].attrs['coordinates']\n",
    "del ds_combined['error_vel'].attrs['coordinates']\n",
    "del ds_combined['echo_intensity'].attrs['coordinates']\n",
    "del ds_combined['correlation'].attrs['coordinates']\n",
    "\n",
    "filename_loggers_usv=adir + 'saildrone-gen_4-baja_2018-sd1002-20180411T180000-20180611T055959-10_minutes-v1_withloggers_matchedadcp_v4.nc'\n",
    "ds_combined.to_netcdf(filename_loggers_usv)"
   ]
  },
  {
   "cell_type": "code",
   "execution_count": null,
   "metadata": {},
   "outputs": [],
   "source": []
  }
 ],
 "metadata": {
  "kernelspec": {
   "display_name": "Python 3",
   "language": "python",
   "name": "python3"
  },
  "language_info": {
   "codemirror_mode": {
    "name": "ipython",
    "version": 3
   },
   "file_extension": ".py",
   "mimetype": "text/x-python",
   "name": "python",
   "nbconvert_exporter": "python",
   "pygments_lexer": "ipython3",
   "version": "3.7.8"
  }
 },
 "nbformat": 4,
 "nbformat_minor": 2
}
