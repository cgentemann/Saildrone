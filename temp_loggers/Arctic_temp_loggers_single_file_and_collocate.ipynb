{
 "cells": [
  {
   "cell_type": "code",
   "execution_count": null,
   "metadata": {},
   "outputs": [],
   "source": [
    "import xarray as xr\n",
    "import numpy as np\n",
    "import pandas as pd\n",
    "import matplotlib.pyplot as plt\n",
    "import seawater as sw\n",
    "import cartopy.crs as ccrs                   # import projections\n",
    "import cartopy.feature as cf                 # import features\n",
    "\n",
    "fig_dir='C:/Users/gentemann/Google Drive/f_drive/docs/projects/misst-arctic/Saildrone/'\n",
    "\n",
    "data_dir = 'F:/data/cruise_data/saildrone/2019_arctic/post_mission/'\n",
    "\n",
    "adir_sbe='F:/data/cruise_data/saildrone/2019_arctic/sbe56/sd-'\n",
    "\n",
    "data_dir_sbe_combined = 'F:/data/cruise_data/saildrone/2019_arctic/post_mission_combined/'"
   ]
  },
  {
   "cell_type": "markdown",
   "metadata": {},
   "source": [
    "# Metadata\n",
    "- SBE56 info, set some attributes and depths for metadata\n",
    "- put filenames and depts into a xarray dataset\n"
   ]
  },
  {
   "cell_type": "code",
   "execution_count": null,
   "metadata": {},
   "outputs": [],
   "source": [
    "\n",
    "vattrs = {'long_name': 'sea surface depth','coordinates': 'time',\n",
    "          'standard_name': 'sea_water_temperature', 'installed_height':'-0.295 m' ,\n",
    "          'serial_number' : 'SBE05608196', 'model_number': '56', \n",
    "          'sensor_description': 'Seabird 56 Temperature Logger',\n",
    "          'model_name': 'SBE 56', 'product_page':'http://www.seabird.com/sbe56-temperature-logger', \n",
    "          'nominal_sampling_schedule': '2 sec', \n",
    "          'units':'degrees_C','valid_min':-10.0,'valid_max':50.0}\n",
    "\n",
    "\n",
    "astr_sbe36=['SBE05609153_2019-11-25.csv','SBE05609154_2019-11-25.csv',\n",
    "         'SBE05609158_2019-11-25.csv','SBE05609150_2019-11-25.csv',\n",
    "         'SBE05609151_2019-11-25.csv','SBE05609152_2019-11-25.csv',\n",
    "           'SBE05609157_2019-11-25.csv']\n",
    "\n",
    "depth36=[330,473,823,1048,1209,1436,1700]\n",
    "\n",
    "astr_sbe37=['SBE05608196_2019-11-25.csv','SBE05604705_2019-11-25.csv',\n",
    "         'SBE05605200_2019-11-25.csv','SBE05608476_2019-11-25.csv',\n",
    "         'SBE05609159_2019-11-25.csv','SBE05609155_2019-11-26.csv',\n",
    "         'SBE05609156_2019-11-26.csv']\n",
    "depth37=[324,474,805,1035,1196,1413,1725]\n",
    "\n",
    "adepth=[depth36,depth37]\n",
    "astr = [astr_sbe36,astr_sbe37]\n",
    "\n",
    "ds_info = xr.Dataset(data_vars={'fname':(['trajectory','z'],astr),\n",
    "                                'depth':(['trajectory','z'],adepth)},\n",
    "                     coords={'z':np.arange(7),'trajectory':[1036,1037]})\n",
    "\n",
    "\n"
   ]
  },
  {
   "cell_type": "markdown",
   "metadata": {},
   "source": [
    "# Combine the .cvs files into a single netcdf file with metadata"
   ]
  },
  {
   "cell_type": "code",
   "execution_count": null,
   "metadata": {
    "scrolled": true
   },
   "outputs": [],
   "source": [
    "for itt in range(0,2):\n",
    "    for iz  in range(7):\n",
    "        if (itt==0) and (iz==3):  #the third sbe56 fell off & file doesn't exist\n",
    "            continue\n",
    "        fstr = str(ds_info.fname[itt,iz].data)\n",
    "        avehicle=str(ds_info.trajectory[itt].data)\n",
    "        filename=adir_sbe+avehicle+'/'+fstr\n",
    "        print(filename)\n",
    "        df = pd.read_csv(filename,header=11) #, sheet_name='data')\n",
    "        df['time']=pd.to_datetime(df['Date'] + ' ' + df['Time']) \n",
    "        del df['Date']\n",
    "        del df['Time']\n",
    "        df.index=df['time']\n",
    "        xf=df.to_xarray()\n",
    "        vname='sea_water_temperature_'+str(iz).zfill(2)\n",
    "        xf=xf.rename({'Temperature':vname})\n",
    "        vattrs['installed_height']=str(-1*ds_info.depth[itt,iz].data/1000.)+' m'\n",
    "        vattrs['serial_number']=fstr[:11]\n",
    "        xf.attrs=vattrs\n",
    "        if iz==0:\n",
    "            ds_sbe=xr.Dataset({'sea_water_temperature_00':xf[vname]})\n",
    "            ds_sbe[vname].attrs=vattrs\n",
    "        else:\n",
    "            ds_sbe=ds_sbe.assign(vname=xf[vname])\n",
    "            ds_sbe=ds_sbe.rename({'vname':vname})\n",
    "            ds_sbe[vname].attrs=vattrs\n",
    "    if itt==0:\n",
    "        ds_sbe['time']=ds_sbe.time+np.timedelta64(8,'h')\n",
    "    fout=adir_sbe+'combined'+avehicle+'.nc'\n",
    "    ds_sbe.to_netcdf(fout)"
   ]
  },
  {
   "cell_type": "markdown",
   "metadata": {},
   "source": [
    "# Create files with 1 minute averages of data using :54 to :06 seconds "
   ]
  },
  {
   "cell_type": "code",
   "execution_count": null,
   "metadata": {},
   "outputs": [],
   "source": [
    "#make 1min average data\n",
    "\n",
    "for itt in range(2):\n",
    "    avehicle=str(ds_info.trajectory[itt].data)\n",
    "    filename=adir_sbe+'combined'+avehicle+'.nc'\n",
    "    filename_out=adir_sbe+'combined_1minave'+avehicle+'.nc'\n",
    "    xf=xr.open_dataset(filename)\n",
    "    for iz  in range(7):\n",
    "        if (itt==0) and (iz==3):\n",
    "            continue\n",
    "        print(itt,iz)\n",
    "        vname='sea_water_temperature_'+str(iz).zfill(2)\n",
    "        vnamemn='sea_water_temperature_'+str(iz).zfill(2)+'_mean'\n",
    "        vnamestd='sea_water_temperature_'+str(iz).zfill(2)+'_std'\n",
    "        offset = pd.to_timedelta(6, unit='s') \n",
    "        xftem=xf[vname]\n",
    "        pt = pd.to_datetime(xftem.time.data)+offset  #add 6 seconds\n",
    "        psec=pt.second\n",
    "        tem=xftem[(psec <=12)]  #data average should be only use sec 54 to sec 06 of each minute \n",
    "        tem['time']=tem['time']+offset #resample goes from :00 to :59 so shift +6sec\n",
    "        xf_avg1 = tem.resample(time='1min').mean(keep_attrs=True)\n",
    "        xf_std1 = tem.resample(time='1min').std(ddof=1,keep_attrs=True)\n",
    "        sattrs=xf[vname].attrs\n",
    "        sattrs['nominal_sampling_schedule']='1 minute averages from :54 to :06 seconds'\n",
    "        sattrs['long_name']='sea surface depth 1-min mean'\n",
    "        xf_avg1.attrs=sattrs\n",
    "        sattrs['long_name']='sea surface depth 1-min standard dev'\n",
    "        if iz==0:\n",
    "            ds_sbe=xr.Dataset({'vname':xf_avg1})\n",
    "            ds_sbe=ds_sbe.rename({'vname':vnamemn})\n",
    "            ds_sbe=ds_sbe.assign(vname=xf_std1)\n",
    "            ds_sbe=ds_sbe.rename({'vname':vnamestd})\n",
    "        else:\n",
    "            ds_sbe=ds_sbe.assign(vname=xf_avg1)\n",
    "            ds_sbe=ds_sbe.rename({'vname':vnamemn})\n",
    "            ds_sbe=ds_sbe.assign(vname=xf_std1)\n",
    "            ds_sbe=ds_sbe.rename({'vname':vnamestd})\n",
    "        #ds_sbe = ds_sbe.drop(vname)\n",
    "    ds_sbe2=ds_sbe.where(np.isfinite(ds_sbe.sea_water_temperature_00_mean),drop=True)\n",
    "    fout=adir_sbe+'combined'+avehicle+'.nc'\n",
    "    ds_sbe2.to_netcdf(filename_out)"
   ]
  },
  {
   "cell_type": "code",
   "execution_count": null,
   "metadata": {},
   "outputs": [],
   "source": [
    "for iusv in range(2):\n",
    "    if iusv==0:\n",
    "        fname='saildrone-gen_5-arctic_misst_2019-sd1036-20190514T230000-20191011T183000-1_minutes-v1.1575336154680.nc'\n",
    "        fname2='sd-combined_1minave1036.nc'\n",
    "        fname_out='sd-combined_1minave1036_withattrs.nc'\n",
    "    if iusv==1:\n",
    "        fname='saildrone-gen_5-arctic_misst_2019-sd1037-20190514T230000-20191011T183000-1_minutes-v1.1575487464625.nc'\n",
    "        fname2='sd-combined_1minave1037.nc'\n",
    "        fname_out='sd-combined_1minave1037_withattrs.nc'\n",
    "    ds = xr.open_dataset(data_dir+fname)\n",
    "    ds.close()\n",
    "    ds_sbe=xr.open_dataset(adir_sbe[:-3]+fname2)\n",
    "    ds_sbe.close()\n",
    "    gattrs=ds.attrs\n",
    "    ds_sbe.attrs=gattrs\n",
    "    ds_sbe.sel(time=slice('2019-05-14T23:00','2019-10-11T18:30'))\n",
    "    ds_sbe.to_netcdf(adir_sbe[:-3]+fname_out)"
   ]
  },
  {
   "cell_type": "code",
   "execution_count": null,
   "metadata": {},
   "outputs": [],
   "source": [
    "ds_sbe"
   ]
  },
  {
   "cell_type": "markdown",
   "metadata": {},
   "source": [
    "# combine the 1-min ave SBE data with the saildrone file of all data"
   ]
  },
  {
   "cell_type": "code",
   "execution_count": null,
   "metadata": {},
   "outputs": [],
   "source": [
    "for iusv in range(2):\n",
    "    if iusv==0:\n",
    "        fname='saildrone-gen_5-arctic_misst_2019-sd1036-20190514T230000-20191011T183000-1_minutes-v1.1575336154680.nc'\n",
    "        fname2='sd-combined_1minave1036.nc'\n",
    "    if iusv==1:\n",
    "        fname='saildrone-gen_5-arctic_misst_2019-sd1037-20190514T230000-20191011T183000-1_minutes-v1.1575487464625.nc'\n",
    "        fname2='sd-combined_1minave1037.nc'\n",
    "    ds = xr.open_dataset(data_dir+fname)\n",
    "    ds.close()\n",
    "    ds = ds.rename({'latitude':'lat','longitude':'lon'})\n",
    "    ds['time']=ds.time[0,:]\n",
    "    ds = ds.swap_dims({'obs':'time'})\n",
    "    #calculate some variables\n",
    "    ds['wspd_MEAN']=np.sqrt(ds.UWND_MEAN**2+ds.VWND_MEAN**2)\n",
    "    ds['wdir_MEAN']=np.arctan2(ds.VWND_MEAN,ds.UWND_MEAN)*180./np.pi\n",
    "    ds_sbe=xr.open_dataset(adir_sbe[:-3]+fname2)\n",
    "    ds_sbe.close()\n",
    "    ds_tem=ds_sbe.interp(time=ds.time,method='nearest')\n",
    "    ds = ds.isel(trajectory=0)\n",
    "    for var in ds_tem:\n",
    "        ds[var]=ds_sbe[var]\n",
    "    fname_out=fname[:-3]+'-withSBE.nc'\n",
    "    ds.to_netcdf(data_dir_sbe_combined+fname_out)"
   ]
  },
  {
   "cell_type": "code",
   "execution_count": null,
   "metadata": {},
   "outputs": [],
   "source": [
    "ds = xr.open_mfdataset(data_dir_sbe_combined+'*.nc',combine='nested',concat_dim='trajectory').load()\n",
    "ds"
   ]
  },
  {
   "cell_type": "code",
   "execution_count": null,
   "metadata": {},
   "outputs": [],
   "source": []
  }
 ],
 "metadata": {
  "kernelspec": {
   "display_name": "Python 3",
   "language": "python",
   "name": "python3"
  },
  "language_info": {
   "codemirror_mode": {
    "name": "ipython",
    "version": 3
   },
   "file_extension": ".py",
   "mimetype": "text/x-python",
   "name": "python",
   "nbconvert_exporter": "python",
   "pygments_lexer": "ipython3",
   "version": "3.7.8"
  }
 },
 "nbformat": 4,
 "nbformat_minor": 2
}
