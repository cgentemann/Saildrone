{
 "cells": [
  {
   "cell_type": "code",
   "execution_count": null,
   "metadata": {},
   "outputs": [],
   "source": [
    "import sys\n",
    "import xarray as xr\n",
    "sys.path.append('../saildrone/subroutines/')\n",
    "from read_routines import read_all_usv, add_coll_vars,get_filelist_l2p,get_orbital_data_l2p\n",
    "import warnings\n",
    "warnings.simplefilter('ignore') # filter some warning messages\n",
    "from glob import glob"
   ]
  },
  {
   "cell_type": "markdown",
   "metadata": {},
   "source": [
    "# Read in All Saildrone cruises downloaded from https://data.saildrone.com/data/sets\n",
    "- 2017 onwards, note that earlier data is going to lack insruments and be poorer data quality in general\n",
    "- The read_all_usv creates a standardized set of variables, preserving the metadata\n",
    "- For example, all SST are put into the variable TEMP_CTD_MEAN and same for Salinity so there is a single variable name\n"
   ]
  },
  {
   "cell_type": "code",
   "execution_count": null,
   "metadata": {},
   "outputs": [],
   "source": [
    "#directory with saildrone data files\n",
    "dir_data_pattern = 'C:/Users/gentemann/Google Drive/public/ALL_Saildrone_Data\\*.nc' \n",
    "#read in all data  (the subroutine will print out the names of files as it processes them)\n",
    "data_dict = read_all_usv(dir_data_pattern)"
   ]
  },
  {
   "cell_type": "code",
   "execution_count": null,
   "metadata": {},
   "outputs": [],
   "source": [
    "# here I loop over all the USV datasets\n",
    "for iname,name in enumerate(data_dict):\n",
    "#    if not iname==1:  #i use this when testing so it doesn't loop over all the data\n",
    "#        continue\n",
    "    #assign the USV dataset to ds_usv and the name of the dataset to name_usv (useful for output)\n",
    "    ds_usv,name_usv=data_dict[name],name\n",
    "    print(iname,len(ds_usv.time))\n",
    "\n",
    "    "
   ]
  },
  {
   "cell_type": "code",
   "execution_count": null,
   "metadata": {},
   "outputs": [],
   "source": []
  }
 ],
 "metadata": {
  "kernelspec": {
   "display_name": "Python 3",
   "language": "python",
   "name": "python3"
  },
  "language_info": {
   "codemirror_mode": {
    "name": "ipython",
    "version": 3
   },
   "file_extension": ".py",
   "mimetype": "text/x-python",
   "name": "python",
   "nbconvert_exporter": "python",
   "pygments_lexer": "ipython3",
   "version": "3.7.10"
  }
 },
 "nbformat": 4,
 "nbformat_minor": 4
}
